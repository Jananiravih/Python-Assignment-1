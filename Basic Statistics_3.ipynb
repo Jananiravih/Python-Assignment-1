{
 "cells": [
  {
   "cell_type": "markdown",
   "id": "612c1bec",
   "metadata": {},
   "source": [
    "## prime number"
   ]
  },
  {
   "cell_type": "code",
   "execution_count": 1,
   "id": "7972d0b7",
   "metadata": {},
   "outputs": [
    {
     "name": "stdout",
     "output_type": "stream",
     "text": [
      "Enter number :7\n",
      "7 is a prime number.\n"
     ]
    }
   ],
   "source": [
    "def is_prime(num):\n",
    "    if num<=1:\n",
    "        return False\n",
    "    for i in range(2,int(num**0.5)+1):\n",
    "        if num % i == 0:\n",
    "            return False\n",
    "    return True\n",
    "number = int(input(\"Enter number :\"))\n",
    "    \n",
    "if is_prime(number):\n",
    "    \n",
    "    print(number, \"is a prime number.\")\n",
    "else:\n",
    "    print(number, \"is not a prime number.\")"
   ]
  },
  {
   "cell_type": "markdown",
   "id": "32c6caaf",
   "metadata": {},
   "source": [
    "## Product Value"
   ]
  },
  {
   "cell_type": "code",
   "execution_count": 9,
   "id": "ef67bbe2",
   "metadata": {},
   "outputs": [
    {
     "name": "stdout",
     "output_type": "stream",
     "text": [
      "Enter the product value 8 and 2: 14\n",
      "14 Wrong Answer. The Correct Answer is: 16\n"
     ]
    }
   ],
   "source": [
    "import random\n",
    "\n",
    "def product_of_two(a, b, c,d):\n",
    "    if ((a * b)==d):\n",
    "        print(c, \"Right Answer\")\n",
    "    else:\n",
    "        print(d, \"Wrong Answer. The Correct Answer is:\", c)\n",
    "\n",
    "a = random.randint(0, 10)\n",
    "b = random.randint(0, 10)\n",
    "c = a * b\n",
    "\n",
    "d = int(input(\"Enter the product value {} and {}: \".format(a, b)))\n",
    "product_of_two(a, b, c,d)\n"
   ]
  },
  {
   "cell_type": "code",
   "execution_count": null,
   "id": "4d111c36",
   "metadata": {},
   "outputs": [],
   "source": [
    "Square root of Even number"
   ]
  },
  {
   "cell_type": "code",
   "execution_count": 10,
   "id": "2cff1cff",
   "metadata": {},
   "outputs": [
    {
     "name": "stdout",
     "output_type": "stream",
     "text": [
      "100  squared is  10000\n",
      "102  squared is  10404\n",
      "104  squared is  10816\n",
      "106  squared is  11236\n",
      "108  squared is  11664\n",
      "110  squared is  12100\n",
      "112  squared is  12544\n",
      "114  squared is  12996\n",
      "116  squared is  13456\n",
      "118  squared is  13924\n",
      "120  squared is  14400\n",
      "122  squared is  14884\n",
      "124  squared is  15376\n",
      "126  squared is  15876\n",
      "128  squared is  16384\n",
      "130  squared is  16900\n",
      "132  squared is  17424\n",
      "134  squared is  17956\n",
      "136  squared is  18496\n",
      "138  squared is  19044\n",
      "140  squared is  19600\n",
      "142  squared is  20164\n",
      "144  squared is  20736\n",
      "146  squared is  21316\n",
      "148  squared is  21904\n",
      "150  squared is  22500\n",
      "152  squared is  23104\n",
      "154  squared is  23716\n",
      "156  squared is  24336\n",
      "158  squared is  24964\n",
      "160  squared is  25600\n",
      "162  squared is  26244\n",
      "164  squared is  26896\n",
      "166  squared is  27556\n",
      "168  squared is  28224\n",
      "170  squared is  28900\n",
      "172  squared is  29584\n",
      "174  squared is  30276\n",
      "176  squared is  30976\n",
      "178  squared is  31684\n",
      "180  squared is  32400\n",
      "182  squared is  33124\n",
      "184  squared is  33856\n",
      "186  squared is  34596\n",
      "188  squared is  35344\n",
      "190  squared is  36100\n",
      "192  squared is  36864\n",
      "194  squared is  37636\n",
      "196  squared is  38416\n",
      "198  squared is  39204\n"
     ]
    }
   ],
   "source": [
    "for num in range(100, 200):\n",
    "    # Check if the number is even\n",
    "    if num % 2 == 0:\n",
    "        # Print the square of the even number\n",
    "        print(num, \" squared is \", num*num)"
   ]
  },
  {
   "cell_type": "markdown",
   "id": "9bc301d8",
   "metadata": {},
   "source": [
    "## Word Count"
   ]
  },
  {
   "cell_type": "code",
   "execution_count": 7,
   "id": "7ba061ff",
   "metadata": {},
   "outputs": [
    {
     "name": "stdout",
     "output_type": "stream",
     "text": [
      "'this': 2\n",
      "'is': 1\n",
      "'a': 1\n",
      "'sample': 1\n",
      "'text': 2\n",
      "'will': 1\n",
      "'be': 1\n",
      "'used': 1\n",
      "'to': 1\n",
      "'demonstrate': 1\n",
      "'the': 1\n",
      "'word': 1\n",
      "'counter': 1\n"
     ]
    }
   ],
   "source": [
    "def word_counter(text):\n",
    "    # Split the text into words using whitespace as the separator\n",
    "    words = text.split()\n",
    "    \n",
    "    # Initialize an empty dictionary to store word counts\n",
    "    word_count = {}\n",
    "    \n",
    "    # Iterate through each word in the list of words\n",
    "    for word in words:\n",
    "        # Remove any punctuation marks from the word\n",
    "        cleaned_word = word.strip(\".,!?'\\\"\")\n",
    "        \n",
    "        # Convert the word to lowercase to make counting case-insensitive\n",
    "        cleaned_word = cleaned_word.lower()\n",
    "        \n",
    "        # If the word is already in the dictionary, increment its count\n",
    "        if cleaned_word in word_count:\n",
    "            word_count[cleaned_word] += 1\n",
    "        # If the word is not in the dictionary, add it with a count of 1\n",
    "        else:\n",
    "            word_count[cleaned_word] = 1\n",
    "    \n",
    "    # Print the word counts\n",
    "    for word, count in word_count.items():\n",
    "        print(f\"'{word}': {count}\")\n",
    "\n",
    "input_text = \"This is a sample text. This text will be used to demonstrate the word counter.\"\n",
    "\n",
    "word_counter(input_text)\n"
   ]
  },
  {
   "cell_type": "code",
   "execution_count": 17,
   "id": "c1058168",
   "metadata": {},
   "outputs": [
    {
     "name": "stdout",
     "output_type": "stream",
     "text": [
      "True\n",
      "True\n",
      "False\n"
     ]
    }
   ],
   "source": [
    "def is_palindrome(s):\n",
    "    # Remove spaces, punctuation, and convert to lowercase\n",
    "    cleaned_string = ''.join(char.lower() for char in s if char.isalnum())\n",
    "    # Check if the cleaned string is equal to its reverse\n",
    "    return cleaned_string == cleaned_string[::-1]\n",
    "\n",
    "print(is_palindrome(\"A man, a plan, a canal, Panama\"))  \n",
    "print(is_palindrome(\"racecar\"))  \n",
    "print(is_palindrome(\"a vehicle\"))  \n"
   ]
  },
  {
   "cell_type": "code",
   "execution_count": null,
   "id": "dc233106",
   "metadata": {},
   "outputs": [],
   "source": []
  }
 ],
 "metadata": {
  "kernelspec": {
   "display_name": "Python 3 (ipykernel)",
   "language": "python",
   "name": "python3"
  },
  "language_info": {
   "codemirror_mode": {
    "name": "ipython",
    "version": 3
   },
   "file_extension": ".py",
   "mimetype": "text/x-python",
   "name": "python",
   "nbconvert_exporter": "python",
   "pygments_lexer": "ipython3",
   "version": "3.11.5"
  }
 },
 "nbformat": 4,
 "nbformat_minor": 5
}
