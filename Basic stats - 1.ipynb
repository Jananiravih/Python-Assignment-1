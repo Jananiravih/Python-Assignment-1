{
 "cells": [
  {
   "cell_type": "code",
   "execution_count": 92,
   "id": "cbddac5b",
   "metadata": {},
   "outputs": [
    {
     "name": "stdout",
     "output_type": "stream",
     "text": [
      "\u001b[1mNumerical Columns:\u001b[0m\n",
      "Volume\n",
      "Avg Price\n",
      "Total Sales Value\n",
      "Discount Rate (%)\n",
      "Discount Amount\n",
      "Net Sales Value\n",
      "\n",
      "\u001b[1mMean Values:\u001b[0m\n",
      "-------------\n",
      "\n",
      "Volume: 5.066666666666666\n",
      "\n",
      "Avg Price: 10453.433333333332\n",
      "\n",
      "Total Sales Value: 33812.83555555555\n",
      "\n",
      "Mean Discount Rate (%): 15.15524189526222\n",
      "\n",
      "Mean Discount Amount: 3346.4994243526\n",
      "\n",
      "Mean Net Sales Value: 30466.33613109089\n",
      "\n",
      "\u001b[1mMedian Values:\u001b[0m\n",
      "-------------\n",
      "\n",
      "Volume: 4.0\n",
      "\n",
      "Avg Price: 1450.0\n",
      "\n",
      "Total Sales Value: 5700.0\n",
      "\n",
      "Mean Discount Rate (%): 16.57776565\n",
      "\n",
      "Mean Discount Amount: 988.93373325\n",
      "\n",
      "Mean Net Sales Value: 4677.7880595\n",
      "\n",
      "\u001b[1mMode Values:\u001b[0m\n",
      "-------------\n",
      "\n",
      "Volume: 0    3\n",
      "Name: Volume, dtype: int64\n",
      "\n",
      "Avg Price: 0     400\n",
      "1     450\n",
      "2     500\n",
      "3    1300\n",
      "4    8100\n",
      "Name: Avg Price, dtype: int64\n",
      "\n",
      "Total Sales Value: 0    24300\n",
      "Name: Total Sales Value, dtype: int64\n",
      "\n",
      "Discount Rate (%): 0       5.007822\n",
      "1       5.055218\n",
      "2       5.059801\n",
      "3       5.072124\n",
      "4       5.084108\n",
      "         ...    \n",
      "445    19.940610\n",
      "446    19.965340\n",
      "447    19.976879\n",
      "448    19.982257\n",
      "449    19.992407\n",
      "Name: Discount Rate (%), Length: 450, dtype: float64\n",
      "\n",
      "Discount Amount: 0         69.177942\n",
      "1         73.025199\n",
      "2         93.649161\n",
      "3         94.682735\n",
      "4        102.705757\n",
      "           ...     \n",
      "445    17900.983730\n",
      "446    21153.498820\n",
      "447    21496.675370\n",
      "448    25328.224200\n",
      "449    25738.022190\n",
      "Name: Discount Amount, Length: 450, dtype: float64\n",
      "\n",
      "Net Sales Value: 0         326.974801\n",
      "1         330.822058\n",
      "2         466.350839\n",
      "3         485.317265\n",
      "4         496.607104\n",
      "           ...      \n",
      "445    162603.186400\n",
      "446    163915.971000\n",
      "447    163967.080100\n",
      "448    166263.161300\n",
      "449    179507.479000\n",
      "Name: Net Sales Value, Length: 450, dtype: float64\n",
      "\n",
      "\n",
      "\u001b[1mStandard Deviation Values:\u001b[0m\n",
      "-------------\n",
      "\n",
      "Volume: 4.231602391213926\n",
      "\n",
      "Avg Price: 18079.90483993645\n",
      "\n",
      "Total Sales Value: 50535.07417255328\n",
      "\n",
      "Discount Rate (%): 4.220602153266692\n",
      "\n",
      "Discount Amount: 4509.902963308047\n",
      "\n",
      "Net Sales Value: 46358.65662389911\n"
     ]
    }
   ],
   "source": [
    "import numpy as np\n",
    "import pandas as pd\n",
    "import matplotlib.pyplot as plt\n",
    "from scipy.stats import norm\n",
    "import seaborn as sns\n",
    "\n",
    "# Read the CSV file into a DataFrame\n",
    "df = pd.read_csv('sales_data_with_discountss.csv')\n",
    "df.head()\n",
    "numerical_columns = df.select_dtypes(include=[np.number]).columns\n",
    "print('\\033[1mNumerical Columns:\\033[0m')\n",
    "for col in numerical_columns:\n",
    "    print(col)\n",
    "print()\n",
    "\n",
    "mean_of_Volume=df['Volume'].mean()\n",
    "mean_of_Avg_Price=df['Avg Price'].mean()\n",
    "mean_of_Total_Sales_Value=df['Total Sales Value'].mean()\n",
    "Mean_of_Dis_Rt=df['Discount Rate (%)'].mean()\n",
    "Mean_of_Dis_Amt=df['Discount Amount'].mean()\n",
    "Mean_of_Net_Sales_Value=df['Net Sales Value'].mean()\n",
    "print('\\033[1mMean Values:\\033[0m')\n",
    "print('-------------')\n",
    "print()\n",
    "print('Volume:',Volume)\n",
    "print()\n",
    "print('Avg Price:',mean_of_Avg_Price)\n",
    "print()\n",
    "print('Total Sales Value:',mean_of_Total_Sales_Value)\n",
    "print()\n",
    "print('Mean Discount Rate (%):', Mean_of_Dis_Rt)\n",
    "print()\n",
    "print('Mean Discount Amount:', Mean_of_Dis_Amt)\n",
    "print()\n",
    "print('Mean Net Sales Value:', Mean_of_Net_Sales_Value)\n",
    "print()\n",
    "\n",
    "\n",
    "median_Volume=df['Volume'].median()\n",
    "median_of_Avg_Price=df['Avg Price'].median()\n",
    "median_of_Total_Sales_Value=df['Total Sales Value'].median()\n",
    "Median_of_Dis_Rt=df['Discount Rate (%)'].median()\n",
    "Median_of_Dis_Amt=df['Discount Amount'].median()\n",
    "Median_of_Net_Sales_Value=df['Net Sales Value'].median()\n",
    "print('\\033[1mMedian Values:\\033[0m')\n",
    "print('-------------')\n",
    "print()\n",
    "print('Volume:',median_Volume)\n",
    "print()\n",
    "print('Avg Price:',median_of_Avg_Price)\n",
    "print()\n",
    "print('Total Sales Value:',median_of_Total_Sales_Value)\n",
    "print()\n",
    "print('Mean Discount Rate (%):', Median_of_Dis_Rt)\n",
    "print()\n",
    "print('Mean Discount Amount:', Median_of_Dis_Amt)\n",
    "print()\n",
    "print('Mean Net Sales Value:', Median_of_Net_Sales_Value)\n",
    "print()\n",
    "\n",
    "mode_of_Volume=df['Volume'].mode()\n",
    "mode_of_Avg_Price=df['Avg Price'].mode()\n",
    "mode_of_Total_Sales_Value=df['Total Sales Value'].mode()\n",
    "Mode_of_Dis_Rt=df['Discount Rate (%)'].mode()\n",
    "Mode_of_Dis_Amt=df['Discount Amount'].mode()\n",
    "Mode_of_Net_Sales_Value=df['Net Sales Value'].mode()\n",
    "print('\\033[1mMode Values:\\033[0m')\n",
    "print('-------------')\n",
    "print()\n",
    "print('Volume:',mode_of_Volume)\n",
    "print()\n",
    "print('Avg Price:',mode_of_Avg_Price)\n",
    "print()\n",
    "print('Total Sales Value:',mode_of_Total_Sales_Value)\n",
    "print()\n",
    "print('Discount Rate (%):', Mode_of_Dis_Rt)\n",
    "print()\n",
    "print('Discount Amount:', Mode_of_Dis_Amt)\n",
    "print()\n",
    "print('Net Sales Value:', Mode_of_Net_Sales_Value)\n",
    "print()\n",
    "print()\n",
    "\n",
    "\n",
    "std_of_Volume=df['Volume'].std()\n",
    "std_of_Avg_Price=df['Avg Price'].std()\n",
    "std_of_Total_Sales_Value=df['Total Sales Value'].std()\n",
    "std_of_Dis_Rt=df['Discount Rate (%)'].std()\n",
    "std_of_Dis_Amt=df['Discount Amount'].std()\n",
    "std_of_Net_Sales_Value=df['Net Sales Value'].std()\n",
    "print('\\033[1mStandard Deviation Values:\\033[0m')\n",
    "print('-------------')\n",
    "print()\n",
    "print('Volume:',std_of_Volume)\n",
    "print()\n",
    "print('Avg Price:',std_of_Avg_Price)\n",
    "print()\n",
    "print('Total Sales Value:',std_of_Total_Sales_Value)\n",
    "print()\n",
    "print('Discount Rate (%):', std_of_Dis_Rt)\n",
    "print()\n",
    "print('Discount Amount:', std_of_Dis_Amt)\n",
    "print()\n",
    "print('Net Sales Value:', std_of_Net_Sales_Value)"
   ]
  },
  {
   "cell_type": "markdown",
   "id": "2e0022ce",
   "metadata": {},
   "source": [
    "### The insights from the data reveal various aspects such as product offerings, pricing factors including discounts, and their impact on sales performance and profitability\n"
   ]
  },
  {
   "cell_type": "markdown",
   "id": "ce5156d7",
   "metadata": {},
   "source": [
    "# Histogram"
   ]
  },
  {
   "cell_type": "code",
   "execution_count": 62,
   "id": "ff651163",
   "metadata": {},
   "outputs": [
    {
     "name": "stdout",
     "output_type": "stream",
     "text": [
      "\u001b[1mVolume:\u001b[0m\n",
      "-------------\n",
      "count    450.000000\n",
      "mean       5.066667\n",
      "std        4.231602\n",
      "min        1.000000\n",
      "25%        3.000000\n",
      "50%        4.000000\n",
      "75%        6.000000\n",
      "max       31.000000\n",
      "Name: Volume, dtype: float64\n",
      "\n",
      "IQR= 3\n",
      "\n",
      "Upper Extreme= 10.5\n",
      "\n",
      "Skewness: 2.731723626557714\n",
      "\n",
      "by Inference: positively skewed on the volume of right peak sale \n",
      "\n"
     ]
    },
    {
     "data": {
      "image/png": "[encoded data removed]",
      "text/plain": [
       "<Figure size 640x480 with 1 Axes>"
      ]
     },
     "metadata": {},
     "output_type": "display_data"
    }
   ],
   "source": [
    "## Volume\n",
    "print('\\033[1mVolume:\\033[0m')\n",
    "print('-------------')\n",
    "describe_values = df['Volume'].describe()\n",
    "print(describe_values)\n",
    "print()\n",
    "sns.histplot(df['Volume'])\n",
    "IQR = 6-3\n",
    "print('IQR=', IQR)\n",
    "print()\n",
    "UE=6+(IQR*1.5) ### upper Extreme\n",
    "print('Upper Extreme=',UE)\n",
    "print()\n",
    "skewness = df['Volume'].skew()\n",
    "print('Skewness:', skewness)\n",
    "print()\n",
    "print('by Inference: positively skewed on the volume of right peak sale ')\n",
    "print()\n"
   ]
  },
  {
   "cell_type": "code",
   "execution_count": 61,
   "id": "74dce423",
   "metadata": {},
   "outputs": [
    {
     "name": "stdout",
     "output_type": "stream",
     "text": [
      "\u001b[1mAverage Price:\u001b[0m\n",
      "-------------\n",
      "count      450.000000\n",
      "mean     10453.433333\n",
      "std      18079.904840\n",
      "min        290.000000\n",
      "25%        465.000000\n",
      "50%       1450.000000\n",
      "75%      10100.000000\n",
      "max      60100.000000\n",
      "Name: Avg Price, dtype: float64\n",
      "\n",
      "IQR= 9635.0\n",
      "\n",
      "Upper Extreme= 24552.5\n",
      "\n",
      "Skewness: 1.9088730767759727\n",
      "\n",
      "by Inference: The skewness is positively skewed the avg price have extremely upper outlier values\n",
      "\n"
     ]
    },
    {
     "data": {
      "image/png": "[encoded data removed]",
      "text/plain": [
       "<Figure size 640x480 with 1 Axes>"
      ]
     },
     "metadata": {},
     "output_type": "display_data"
    }
   ],
   "source": [
    "## Avg Price\n",
    "print('\\033[1mAverage Price:\\033[0m')\n",
    "print('-------------')\n",
    "describe_values = df['Avg Price'].describe()\n",
    "print(describe_values)\n",
    "print()\n",
    "sns.histplot(df['Avg Price'])\n",
    "IQR = 10100.000000-465.000000\n",
    "print('IQR=', IQR)\n",
    "print()\n",
    "UE=10100+(IQR*1.5) ### upper Extreme\n",
    "print('Upper Extreme=',UE)\n",
    "print()\n",
    "skewness = df['Avg Price'].skew()\n",
    "print('Skewness:', skewness)\n",
    "print()\n",
    "print('by Inference: The skewness is positively skewed the avg price have extremely upper outlier values')\n",
    "print()\n"
   ]
  },
  {
   "cell_type": "code",
   "execution_count": 60,
   "id": "95b07a10",
   "metadata": {},
   "outputs": [
    {
     "name": "stdout",
     "output_type": "stream",
     "text": [
      "\u001b[1mTotal Sales Value:\u001b[0m\n",
      "-------------\n",
      "count       450.000000\n",
      "mean      33812.835556\n",
      "std       50535.074173\n",
      "min         400.000000\n",
      "25%        2700.000000\n",
      "50%        5700.000000\n",
      "75%       53200.000000\n",
      "max      196400.000000\n",
      "Name: Total Sales Value, dtype: float64\n",
      "\n",
      "IQR= 50500\n",
      "\n",
      "Upper Extreme= 128950.0\n",
      "\n",
      "Skewness: 1.5347293238977937\n",
      "\n",
      "by Inference: positively skewed the distribution of total sale value is very few occurence of high sales , with the many falling lower end to distribution.\n",
      "\n"
     ]
    },
    {
     "data": {
      "image/png": "[encoded data removed]",
      "text/plain": [
       "<Figure size 640x480 with 1 Axes>"
      ]
     },
     "metadata": {},
     "output_type": "display_data"
    }
   ],
   "source": [
    "## Total Sales Value\n",
    "print('\\033[1mTotal Sales Value:\\033[0m')\n",
    "print('-------------')\n",
    "describe_values = df['Total Sales Value'].describe()\n",
    "print(describe_values)\n",
    "print()\n",
    "sns.histplot(df['Total Sales Value'])\n",
    "IQR = 53200-2700\n",
    "print('IQR=', IQR)\n",
    "print()\n",
    "UE=53200+(IQR*1.5) ### upper Extreme\n",
    "print('Upper Extreme=',UE)\n",
    "print()\n",
    "skewness = df['Total Sales Value'].skew()\n",
    "print('Skewness:', skewness)\n",
    "print()\n",
    "print('by Inference: positively skewed the distribution of total sale value is very few occurence of high sales , with the many falling lower end to distribution.')\n",
    "print()"
   ]
  },
  {
   "cell_type": "code",
   "execution_count": 59,
   "id": "0d88be81",
   "metadata": {},
   "outputs": [
    {
     "name": "stdout",
     "output_type": "stream",
     "text": [
      "\u001b[1mDiscount Rate (%):\u001b[0m\n",
      "-------------\n",
      "count    450.000000\n",
      "mean      15.155242\n",
      "std        4.220602\n",
      "min        5.007822\n",
      "25%       13.965063\n",
      "50%       16.577766\n",
      "75%       18.114718\n",
      "max       19.992407\n",
      "Name: Discount Rate (%), dtype: float64\n",
      "\n",
      "IQR= 5\n",
      "\n",
      "Upper Extreme= 25.5\n",
      "\n",
      "Skewness: -1.0622943696938842\n",
      "\n",
      "by Inference: Negatively skewed the distribution of discount price is offering 5 to 20% of the product. we could analysis to take decession based on quantity and sale price calculation\n",
      "\n"
     ]
    },
    {
     "data": {
      "image/png": "[encoded data removed]",
      "text/plain": [
       "<Figure size 640x480 with 1 Axes>"
      ]
     },
     "metadata": {},
     "output_type": "display_data"
    }
   ],
   "source": [
    "## Discount Rate (%)\n",
    "print('\\033[1mDiscount Rate (%):\\033[0m')\n",
    "print('-------------')\n",
    "describe_values = df['Discount Rate (%)'].describe()\n",
    "print(describe_values)\n",
    "print()\n",
    "sns.histplot(df['Discount Rate (%)'])\n",
    "IQR = 18-13\n",
    "print('IQR=', IQR)\n",
    "print()\n",
    "UE=18+(IQR*1.5) ### upper Extreme\n",
    "print('Upper Extreme=',UE)\n",
    "print()\n",
    "skewness = df['Discount Rate (%)'].skew()\n",
    "print('Skewness:', skewness)\n",
    "print()\n",
    "print('by Inference: Negatively skewed the distribution of discount price is offering 5 to 20% of the product. we could analysis to take decession based on quantity and sale price calculation')\n",
    "print()"
   ]
  },
  {
   "cell_type": "code",
   "execution_count": 57,
   "id": "dd11ab5d",
   "metadata": {},
   "outputs": [
    {
     "name": "stdout",
     "output_type": "stream",
     "text": [
      "\u001b[1mDiscount Amount:\u001b[0m\n",
      "-------------\n",
      "count      450.000000\n",
      "mean      3346.499424\n",
      "std       4509.902963\n",
      "min         69.177942\n",
      "25%        460.459304\n",
      "50%        988.933733\n",
      "75%       5316.495426\n",
      "max      25738.022190\n",
      "Name: Discount Amount, dtype: float64\n",
      "\n",
      "IQR= 4856\n",
      "\n",
      "Upper Extreme= 7302.0\n",
      "\n",
      "Skewness: 1.9130377337693047\n",
      "\n",
      "by Inference: Positively skewed the distribution of discount amount is offered upto 20% of the sold products\n",
      "\n"
     ]
    },
    {
     "data": {
      "image/png": "[encoded data removed]",
      "text/plain": [
       "<Figure size 640x480 with 1 Axes>"
      ]
     },
     "metadata": {},
     "output_type": "display_data"
    }
   ],
   "source": [
    "## Discount Amount\n",
    "print('\\033[1mDiscount Amount:\\033[0m')\n",
    "print('-------------')\n",
    "describe_values = df['Discount Amount'].describe()\n",
    "print(describe_values)\n",
    "print()\n",
    "sns.histplot(df['Discount Amount'])\n",
    "IQR = 5316-460\n",
    "print('IQR=', IQR)\n",
    "print()\n",
    "UE=18+(IQR*1.5) ### upper Extreme\n",
    "print('Upper Extreme=',UE)\n",
    "print()\n",
    "skewness = df['Discount Amount'].skew()\n",
    "print('Skewness:', skewness)\n",
    "print()\n",
    "print('by Inference: Positively skewed the distribution of discount amount is offered upto 20% of the sold products')\n",
    "print()"
   ]
  },
  {
   "cell_type": "code",
   "execution_count": 55,
   "id": "50a8607a",
   "metadata": {},
   "outputs": [
    {
     "name": "stdout",
     "output_type": "stream",
     "text": [
      "\u001b[1mNet Sales Value:\u001b[0m\n",
      "-------------\n",
      "count       450.000000\n",
      "mean      30466.336131\n",
      "std       46358.656624\n",
      "min         326.974801\n",
      "25%        2202.208645\n",
      "50%        4677.788059\n",
      "75%       47847.912855\n",
      "max      179507.479000\n",
      "Name: Net Sales Value, dtype: float64\n",
      "\n",
      "IQR= 4856\n",
      "\n",
      "Upper Extreme= 7302.0\n",
      "\n",
      "Skewness: 1.5408217575596008\n",
      "\n",
      "by Inference: Positively skewed the net sale value is shown the product was sold 0.3k to 175k\n",
      "\n"
     ]
    },
    {
     "data": {
      "image/png": "[encoded data removed]",
      "text/plain": [
       "<Figure size 640x480 with 1 Axes>"
      ]
     },
     "metadata": {},
     "output_type": "display_data"
    }
   ],
   "source": [
    "## Net Sales Value\n",
    "print('\\033[1mNet Sales Value:\\033[0m')\n",
    "print('-------------')\n",
    "describe_values = df['Net Sales Value'].describe()\n",
    "print(describe_values)\n",
    "print()\n",
    "sns.histplot(df['Net Sales Value'])\n",
    "IQR = 5316-460\n",
    "print('IQR=', IQR)\n",
    "print()\n",
    "UE=18+(IQR*1.5) ### upper Extreme\n",
    "print('Upper Extreme=',UE)\n",
    "print()\n",
    "skewness = df['Net Sales Value'].skew()\n",
    "print('Skewness:', skewness)\n",
    "print()\n",
    "print('by Inference: Positively skewed the net sale value is shown the product was sold 0.3k to 175k')\n",
    "print()"
   ]
  },
  {
   "cell_type": "markdown",
   "id": "bb67ca34",
   "metadata": {},
   "source": [
    "## BoxPlot"
   ]
  },
  {
   "cell_type": "code",
   "execution_count": 72,
   "id": "415be3ed",
   "metadata": {},
   "outputs": [
    {
     "name": "stdout",
     "output_type": "stream",
     "text": [
      "\u001b[1mVolume:\u001b[0m\n",
      "-------------\n"
     ]
    },
    {
     "data": {
      "text/plain": [
       "<Axes: >"
      ]
     },
     "execution_count": 72,
     "metadata": {},
     "output_type": "execute_result"
    },
    {
     "data": {
      "image/png": "[encoded data removed]",
      "text/plain": [
       "<Figure size 640x480 with 1 Axes>"
      ]
     },
     "metadata": {},
     "output_type": "display_data"
    }
   ],
   "source": [
    "## Volume\n",
    "print('\\033[1mVolume:\\033[0m')\n",
    "print('-------------')\n",
    "sns.boxplot(df['Volume'])\n"
   ]
  },
  {
   "cell_type": "code",
   "execution_count": 73,
   "id": "71e4551f",
   "metadata": {},
   "outputs": [
    {
     "name": "stdout",
     "output_type": "stream",
     "text": [
      "\u001b[1mAvg Price:\u001b[0m\n",
      "-------------\n"
     ]
    },
    {
     "data": {
      "text/plain": [
       "<Axes: >"
      ]
     },
     "execution_count": 73,
     "metadata": {},
     "output_type": "execute_result"
    },
    {
     "data": {
      "image/png": "[encoded data removed]",
      "text/plain": [
       "<Figure size 640x480 with 1 Axes>"
      ]
     },
     "metadata": {},
     "output_type": "display_data"
    }
   ],
   "source": [
    "## Avg Price\n",
    "print('\\033[1mAvg Price:\\033[0m')\n",
    "print('-------------')\n",
    "sns.boxplot(df['Avg Price'])"
   ]
  },
  {
   "cell_type": "code",
   "execution_count": 75,
   "id": "f677d25f",
   "metadata": {},
   "outputs": [
    {
     "name": "stdout",
     "output_type": "stream",
     "text": [
      "\u001b[1mTotal Sales Value:\u001b[0m\n",
      "-------------\n"
     ]
    },
    {
     "data": {
      "text/plain": [
       "<Axes: >"
      ]
     },
     "execution_count": 75,
     "metadata": {},
     "output_type": "execute_result"
    },
    {
     "data": {
      "image/png": "[encoded data removed]",
      "text/plain": [
       "<Figure size 640x480 with 1 Axes>"
      ]
     },
     "metadata": {},
     "output_type": "display_data"
    }
   ],
   "source": [
    "## Total Sales Value\n",
    "print('\\033[1mTotal Sales Value:\\033[0m')\n",
    "print('-------------')\n",
    "sns.boxplot(df['Total Sales Value'])"
   ]
  },
  {
   "cell_type": "code",
   "execution_count": 76,
   "id": "2ff3c4de",
   "metadata": {},
   "outputs": [
    {
     "name": "stdout",
     "output_type": "stream",
     "text": [
      "\u001b[1mDiscount Rate (%):\u001b[0m\n",
      "-------------\n"
     ]
    },
    {
     "data": {
      "text/plain": [
       "<Axes: >"
      ]
     },
     "execution_count": 76,
     "metadata": {},
     "output_type": "execute_result"
    },
    {
     "data": {
      "image/png": "[encoded data removed]",
      "text/plain": [
       "<Figure size 640x480 with 1 Axes>"
      ]
     },
     "metadata": {},
     "output_type": "display_data"
    }
   ],
   "source": [
    "## Discount Rate (%)\n",
    "print('\\033[1mDiscount Rate (%):\\033[0m')\n",
    "print('-------------')\n",
    "sns.boxplot(df['Discount Rate (%)'])"
   ]
  },
  {
   "cell_type": "code",
   "execution_count": 77,
   "id": "9251cc71",
   "metadata": {},
   "outputs": [
    {
     "name": "stdout",
     "output_type": "stream",
     "text": [
      "\u001b[1mDiscount Amount:\u001b[0m\n",
      "-------------\n"
     ]
    },
    {
     "data": {
      "text/plain": [
       "<Axes: >"
      ]
     },
     "execution_count": 77,
     "metadata": {},
     "output_type": "execute_result"
    },
    {
     "data": {
      "image/png": "[encoded data removed]",
      "text/plain": [
       "<Figure size 640x480 with 1 Axes>"
      ]
     },
     "metadata": {},
     "output_type": "display_data"
    }
   ],
   "source": [
    "## Discount Amount\n",
    "print('\\033[1mDiscount Amount:\\033[0m')\n",
    "print('-------------')\n",
    "sns.boxplot(df['Discount Amount'])"
   ]
  },
  {
   "cell_type": "markdown",
   "id": "dda51afa",
   "metadata": {},
   "source": [
    "## Inference: all the numerical values have lower or upper outliers."
   ]
  },
  {
   "cell_type": "code",
   "execution_count": 79,
   "id": "d018d0e1",
   "metadata": {},
   "outputs": [
    {
     "name": "stdout",
     "output_type": "stream",
     "text": [
      "\u001b[1mCategorical Columns:\u001b[0m\n",
      "Date\n",
      "Day\n",
      "SKU\n",
      "City\n",
      "BU\n",
      "Brand\n",
      "Model\n",
      "\n"
     ]
    }
   ],
   "source": [
    "###Categorical Column\n",
    "categorical_columns = df.select_dtypes(include=['object']).columns\n",
    "print('\\033[1mCategorical Columns:\\033[0m')\n",
    "for col in categorical_columns:\n",
    "    print(col)\n",
    "print()"
   ]
  },
  {
   "cell_type": "markdown",
   "id": "063808e2",
   "metadata": {},
   "source": [
    "## Bar Chart"
   ]
  },
  {
   "cell_type": "code",
   "execution_count": 85,
   "id": "ea49be89",
   "metadata": {},
   "outputs": [
    {
     "name": "stdout",
     "output_type": "stream",
     "text": [
      "BU BU\n",
      "Mobiles      150\n",
      "FMCG         150\n",
      "Lifestyle    150\n",
      "Name: count, dtype: int64\n"
     ]
    },
    {
     "data": {
      "text/plain": [
       "Text(0.5, 1.0, 'BU')"
      ]
     },
     "execution_count": 85,
     "metadata": {},
     "output_type": "execute_result"
    },
    {
     "data": {
      "image/png": "[encoded data removed]",
      "text/plain": [
       "<Figure size 500x400 with 1 Axes>"
      ]
     },
     "metadata": {},
     "output_type": "display_data"
    }
   ],
   "source": [
    "BU=df['BU'].value_counts(sort=False)\n",
    "print('BU',BU)\n",
    "BU.plot(kind='bar',color='cyan',figsize=(5,4))\n",
    "plt.title('BU')"
   ]
  },
  {
   "cell_type": "code",
   "execution_count": 89,
   "id": "f190dcbe",
   "metadata": {},
   "outputs": [
    {
     "name": "stdout",
     "output_type": "stream",
     "text": [
      "SKU SKU\n",
      "M01    15\n",
      "M02    15\n",
      "M03    15\n",
      "M04    15\n",
      "M05    15\n",
      "M06    15\n",
      "M07    15\n",
      "M08    15\n",
      "M09    15\n",
      "M10    15\n",
      "F01    15\n",
      "F02    15\n",
      "F03    15\n",
      "F04    15\n",
      "F05    15\n",
      "F06    15\n",
      "F07    15\n",
      "F08    15\n",
      "F09    15\n",
      "F10    15\n",
      "L01    15\n",
      "L02    15\n",
      "L03    15\n",
      "L04    15\n",
      "L05    15\n",
      "L06    15\n",
      "L07    15\n",
      "L08    15\n",
      "L09    15\n",
      "L10    15\n",
      "Name: count, dtype: int64\n"
     ]
    },
    {
     "data": {
      "text/plain": [
       "Text(0.5, 1.0, 'SKU')"
      ]
     },
     "execution_count": 89,
     "metadata": {},
     "output_type": "execute_result"
    },
    {
     "data": {
      "image/png": "[encoded data removed]",
      "text/plain": [
       "<Figure size 500x400 with 1 Axes>"
      ]
     },
     "metadata": {},
     "output_type": "display_data"
    }
   ],
   "source": [
    "SKU=df['SKU'].value_counts(sort=False)\n",
    "print('SKU',SKU)\n",
    "SKU.plot(kind='bar',color='Blue',figsize=(5,4))\n",
    "plt.title('SKU')"
   ]
  },
  {
   "cell_type": "code",
   "execution_count": 88,
   "id": "7c408ee7",
   "metadata": {},
   "outputs": [
    {
     "name": "stdout",
     "output_type": "stream",
     "text": [
      "Brand Brand\n",
      "RealU      45\n",
      "YouM       45\n",
      "Sumsang    30\n",
      "Orange     30\n",
      "Babaji     45\n",
      "Vedic      45\n",
      "Gear       60\n",
      "Jeera      90\n",
      "Viva       60\n",
      "Name: count, dtype: int64\n"
     ]
    },
    {
     "data": {
      "text/plain": [
       "Text(0.5, 1.0, 'City')"
      ]
     },
     "execution_count": 88,
     "metadata": {},
     "output_type": "execute_result"
    },
    {
     "data": {
      "image/png": "[encoded data removed]",
      "text/plain": [
       "<Figure size 500x400 with 1 Axes>"
      ]
     },
     "metadata": {},
     "output_type": "display_data"
    }
   ],
   "source": [
    "Brand=df['Brand'].value_counts(sort=False)\n",
    "print('Brand',Brand)\n",
    "Brand.plot(kind='bar',color='Blue',figsize=(5,4))\n",
    "plt.title('Brand')"
   ]
  },
  {
   "cell_type": "code",
   "execution_count": 90,
   "id": "97662cfc",
   "metadata": {},
   "outputs": [
    {
     "name": "stdout",
     "output_type": "stream",
     "text": [
      "Model Model\n",
      "RU-10             15\n",
      "RU-9 Plus         15\n",
      "YM-99             15\n",
      "YM-99 Plus        15\n",
      "YM-98             15\n",
      "RU-9              15\n",
      "S-20              15\n",
      "S-21              15\n",
      "O-10              15\n",
      "O-11              15\n",
      "Babaji Oil        15\n",
      "Vedic Cream       15\n",
      "Vedic Shampoo     15\n",
      "Babaji Shampoo    15\n",
      "Babaji Cream      15\n",
      "Vedic Oil         15\n",
      "Gear Oil          15\n",
      "Gear Cream        15\n",
      "Gear Shampoo      15\n",
      "Gear BB Cream     15\n",
      "M- T Shirts       15\n",
      "M- Inners         15\n",
      "W-Casuals         15\n",
      "W-Inners          15\n",
      "M-Jeans           15\n",
      "M-Casuals         15\n",
      "W-Western         15\n",
      "W-Lounge          15\n",
      "M-Formals         15\n",
      "M-Shoes           15\n",
      "Name: count, dtype: int64\n"
     ]
    },
    {
     "data": {
      "text/plain": [
       "Text(0.5, 1.0, 'Model')"
      ]
     },
     "execution_count": 90,
     "metadata": {},
     "output_type": "execute_result"
    },
    {
     "data": {
      "image/png": "[encoded data removed]",
      "text/plain": [
       "<Figure size 500x400 with 1 Axes>"
      ]
     },
     "metadata": {},
     "output_type": "display_data"
    }
   ],
   "source": [
    "Model=df['Model'].value_counts(sort=False)\n",
    "print('Model',Model)\n",
    "Model.plot(kind='bar',color='Blue',figsize=(5,4))\n",
    "plt.title('Model')"
   ]
  },
  {
   "cell_type": "markdown",
   "id": "6d4b2a07",
   "metadata": {},
   "source": [
    "## Standardization"
   ]
  },
  {
   "cell_type": "code",
   "execution_count": 93,
   "id": "fa09cc6c",
   "metadata": {},
   "outputs": [
    {
     "data": {
      "text/html": [
       "<div>\n",
       "<style scoped>\n",
       "    .dataframe tbody tr th:only-of-type {\n",
       "        vertical-align: middle;\n",
       "    }\n",
       "\n",
       "    .dataframe tbody tr th {\n",
       "        vertical-align: top;\n",
       "    }\n",
       "\n",
       "    .dataframe thead th {\n",
       "        text-align: right;\n",
       "    }\n",
       "</style>\n",
       "<table border=\"1\" class=\"dataframe\">\n",
       "  <thead>\n",
       "    <tr style=\"text-align: right;\">\n",
       "      <th></th>\n",
       "      <th>Date</th>\n",
       "      <th>Day</th>\n",
       "      <th>SKU</th>\n",
       "      <th>City</th>\n",
       "      <th>Volume</th>\n",
       "      <th>BU</th>\n",
       "      <th>Brand</th>\n",
       "      <th>Model</th>\n",
       "      <th>Avg Price</th>\n",
       "      <th>Total Sales Value</th>\n",
       "      <th>Discount Rate (%)</th>\n",
       "      <th>Discount Amount</th>\n",
       "      <th>Net Sales Value</th>\n",
       "    </tr>\n",
       "  </thead>\n",
       "  <tbody>\n",
       "    <tr>\n",
       "      <th>0</th>\n",
       "      <td>01-04-2021</td>\n",
       "      <td>Thursday</td>\n",
       "      <td>M01</td>\n",
       "      <td>C</td>\n",
       "      <td>15</td>\n",
       "      <td>Mobiles</td>\n",
       "      <td>RealU</td>\n",
       "      <td>RU-10</td>\n",
       "      <td>12100</td>\n",
       "      <td>181500</td>\n",
       "      <td>11.654820</td>\n",
       "      <td>21153.498820</td>\n",
       "      <td>160346.50120</td>\n",
       "    </tr>\n",
       "    <tr>\n",
       "      <th>1</th>\n",
       "      <td>01-04-2021</td>\n",
       "      <td>Thursday</td>\n",
       "      <td>M02</td>\n",
       "      <td>C</td>\n",
       "      <td>10</td>\n",
       "      <td>Mobiles</td>\n",
       "      <td>RealU</td>\n",
       "      <td>RU-9 Plus</td>\n",
       "      <td>10100</td>\n",
       "      <td>101000</td>\n",
       "      <td>11.560498</td>\n",
       "      <td>11676.102960</td>\n",
       "      <td>89323.89704</td>\n",
       "    </tr>\n",
       "    <tr>\n",
       "      <th>2</th>\n",
       "      <td>01-04-2021</td>\n",
       "      <td>Thursday</td>\n",
       "      <td>M03</td>\n",
       "      <td>C</td>\n",
       "      <td>7</td>\n",
       "      <td>Mobiles</td>\n",
       "      <td>YouM</td>\n",
       "      <td>YM-99</td>\n",
       "      <td>16100</td>\n",
       "      <td>112700</td>\n",
       "      <td>9.456886</td>\n",
       "      <td>10657.910160</td>\n",
       "      <td>102042.08980</td>\n",
       "    </tr>\n",
       "    <tr>\n",
       "      <th>3</th>\n",
       "      <td>01-04-2021</td>\n",
       "      <td>Thursday</td>\n",
       "      <td>M04</td>\n",
       "      <td>C</td>\n",
       "      <td>6</td>\n",
       "      <td>Mobiles</td>\n",
       "      <td>YouM</td>\n",
       "      <td>YM-99 Plus</td>\n",
       "      <td>20100</td>\n",
       "      <td>120600</td>\n",
       "      <td>6.935385</td>\n",
       "      <td>8364.074702</td>\n",
       "      <td>112235.92530</td>\n",
       "    </tr>\n",
       "    <tr>\n",
       "      <th>4</th>\n",
       "      <td>01-04-2021</td>\n",
       "      <td>Thursday</td>\n",
       "      <td>M05</td>\n",
       "      <td>C</td>\n",
       "      <td>3</td>\n",
       "      <td>Mobiles</td>\n",
       "      <td>YouM</td>\n",
       "      <td>YM-98</td>\n",
       "      <td>8100</td>\n",
       "      <td>24300</td>\n",
       "      <td>17.995663</td>\n",
       "      <td>4372.946230</td>\n",
       "      <td>19927.05377</td>\n",
       "    </tr>\n",
       "  </tbody>\n",
       "</table>\n",
       "</div>"
      ],
      "text/plain": [
       "         Date       Day  SKU City  Volume       BU  Brand       Model  \\\n",
       "0  01-04-2021  Thursday  M01    C      15  Mobiles  RealU       RU-10   \n",
       "1  01-04-2021  Thursday  M02    C      10  Mobiles  RealU   RU-9 Plus   \n",
       "2  01-04-2021  Thursday  M03    C       7  Mobiles   YouM       YM-99   \n",
       "3  01-04-2021  Thursday  M04    C       6  Mobiles   YouM  YM-99 Plus   \n",
       "4  01-04-2021  Thursday  M05    C       3  Mobiles   YouM      YM-98    \n",
       "\n",
       "   Avg Price  Total Sales Value  Discount Rate (%)  Discount Amount  \\\n",
       "0      12100             181500          11.654820     21153.498820   \n",
       "1      10100             101000          11.560498     11676.102960   \n",
       "2      16100             112700           9.456886     10657.910160   \n",
       "3      20100             120600           6.935385      8364.074702   \n",
       "4       8100              24300          17.995663      4372.946230   \n",
       "\n",
       "   Net Sales Value  \n",
       "0     160346.50120  \n",
       "1      89323.89704  \n",
       "2     102042.08980  \n",
       "3     112235.92530  \n",
       "4      19927.05377  "
      ]
     },
     "execution_count": 93,
     "metadata": {},
     "output_type": "execute_result"
    }
   ],
   "source": [
    "df.head()"
   ]
  },
  {
   "cell_type": "code",
   "execution_count": 96,
   "id": "e9b681db",
   "metadata": {},
   "outputs": [
    {
     "data": {
      "text/html": [
       "<div>\n",
       "<style scoped>\n",
       "    .dataframe tbody tr th:only-of-type {\n",
       "        vertical-align: middle;\n",
       "    }\n",
       "\n",
       "    .dataframe tbody tr th {\n",
       "        vertical-align: top;\n",
       "    }\n",
       "\n",
       "    .dataframe thead th {\n",
       "        text-align: right;\n",
       "    }\n",
       "</style>\n",
       "<table border=\"1\" class=\"dataframe\">\n",
       "  <thead>\n",
       "    <tr style=\"text-align: right;\">\n",
       "      <th></th>\n",
       "      <th>Date</th>\n",
       "      <th>Day</th>\n",
       "      <th>SKU</th>\n",
       "      <th>City</th>\n",
       "      <th>Volume</th>\n",
       "      <th>BU</th>\n",
       "      <th>Brand</th>\n",
       "      <th>Model</th>\n",
       "      <th>Avg Price</th>\n",
       "      <th>Total Sales Value</th>\n",
       "      <th>Discount Rate (%)</th>\n",
       "      <th>Discount Amount</th>\n",
       "      <th>Net Sales Value</th>\n",
       "    </tr>\n",
       "  </thead>\n",
       "  <tbody>\n",
       "    <tr>\n",
       "      <th>0</th>\n",
       "      <td>01-04-2021</td>\n",
       "      <td>Thursday</td>\n",
       "      <td>M01</td>\n",
       "      <td>C</td>\n",
       "      <td>-1.349199</td>\n",
       "      <td>Mobiles</td>\n",
       "      <td>RealU</td>\n",
       "      <td>RU-10</td>\n",
       "      <td>-0.578212</td>\n",
       "      <td>-0.669039</td>\n",
       "      <td>-3.787281</td>\n",
       "      <td>-0.741158</td>\n",
       "      <td>-0.657127</td>\n",
       "    </tr>\n",
       "    <tr>\n",
       "      <th>1</th>\n",
       "      <td>01-04-2021</td>\n",
       "      <td>Thursday</td>\n",
       "      <td>M02</td>\n",
       "      <td>C</td>\n",
       "      <td>-1.415185</td>\n",
       "      <td>Mobiles</td>\n",
       "      <td>RealU</td>\n",
       "      <td>RU-9 Plus</td>\n",
       "      <td>-0.578212</td>\n",
       "      <td>-0.669070</td>\n",
       "      <td>-3.792576</td>\n",
       "      <td>-0.741624</td>\n",
       "      <td>-0.657160</td>\n",
       "    </tr>\n",
       "    <tr>\n",
       "      <th>2</th>\n",
       "      <td>01-04-2021</td>\n",
       "      <td>Thursday</td>\n",
       "      <td>M03</td>\n",
       "      <td>C</td>\n",
       "      <td>-1.454777</td>\n",
       "      <td>Mobiles</td>\n",
       "      <td>YouM</td>\n",
       "      <td>YM-99</td>\n",
       "      <td>-0.578212</td>\n",
       "      <td>-0.669065</td>\n",
       "      <td>-3.910667</td>\n",
       "      <td>-0.741674</td>\n",
       "      <td>-0.657154</td>\n",
       "    </tr>\n",
       "    <tr>\n",
       "      <th>3</th>\n",
       "      <td>01-04-2021</td>\n",
       "      <td>Thursday</td>\n",
       "      <td>M04</td>\n",
       "      <td>C</td>\n",
       "      <td>-1.467974</td>\n",
       "      <td>Mobiles</td>\n",
       "      <td>YouM</td>\n",
       "      <td>YM-99 Plus</td>\n",
       "      <td>-0.578212</td>\n",
       "      <td>-0.669062</td>\n",
       "      <td>-4.052217</td>\n",
       "      <td>-0.741787</td>\n",
       "      <td>-0.657150</td>\n",
       "    </tr>\n",
       "    <tr>\n",
       "      <th>4</th>\n",
       "      <td>01-04-2021</td>\n",
       "      <td>Thursday</td>\n",
       "      <td>M05</td>\n",
       "      <td>C</td>\n",
       "      <td>-1.507566</td>\n",
       "      <td>Mobiles</td>\n",
       "      <td>YouM</td>\n",
       "      <td>YM-98</td>\n",
       "      <td>-0.578212</td>\n",
       "      <td>-0.669100</td>\n",
       "      <td>-3.431324</td>\n",
       "      <td>-0.741983</td>\n",
       "      <td>-0.657193</td>\n",
       "    </tr>\n",
       "  </tbody>\n",
       "</table>\n",
       "</div>"
      ],
      "text/plain": [
       "         Date       Day  SKU City    Volume       BU  Brand       Model  \\\n",
       "0  01-04-2021  Thursday  M01    C -1.349199  Mobiles  RealU       RU-10   \n",
       "1  01-04-2021  Thursday  M02    C -1.415185  Mobiles  RealU   RU-9 Plus   \n",
       "2  01-04-2021  Thursday  M03    C -1.454777  Mobiles   YouM       YM-99   \n",
       "3  01-04-2021  Thursday  M04    C -1.467974  Mobiles   YouM  YM-99 Plus   \n",
       "4  01-04-2021  Thursday  M05    C -1.507566  Mobiles   YouM      YM-98    \n",
       "\n",
       "   Avg Price  Total Sales Value  Discount Rate (%)  Discount Amount  \\\n",
       "0  -0.578212          -0.669039          -3.787281        -0.741158   \n",
       "1  -0.578212          -0.669070          -3.792576        -0.741624   \n",
       "2  -0.578212          -0.669065          -3.910667        -0.741674   \n",
       "3  -0.578212          -0.669062          -4.052217        -0.741787   \n",
       "4  -0.578212          -0.669100          -3.431324        -0.741983   \n",
       "\n",
       "   Net Sales Value  \n",
       "0        -0.657127  \n",
       "1        -0.657160  \n",
       "2        -0.657154  \n",
       "3        -0.657150  \n",
       "4        -0.657193  "
      ]
     },
     "execution_count": 96,
     "metadata": {},
     "output_type": "execute_result"
    }
   ],
   "source": [
    " df['Volume']=(df['Volume']-mean_of_Volume)/std_of_Volume\n",
    "df['Avg Price']=(df['Avg Price']-mean_of_Avg_Price)/std_of_Avg_Price\n",
    "df['Total Sales Value']=(df['Total Sales Value']-mean_of_Total_Sales_Value)/std_of_Total_Sales_Value\n",
    "df['Discount Rate (%)']=(df['Discount Rate (%)']-Mean_of_Dis_Rt)/std_of_Dis_Rt\n",
    "df['Discount Amount']=(df['Discount Amount']-Mean_of_Dis_Amt)/std_of_Dis_Amt\n",
    "df['Net Sales Value']=(df['Net Sales Value']-Mean_of_Net_Sales_Value)/std_of_Net_Sales_Value\n",
    "df.head()\n"
   ]
  },
  {
   "cell_type": "markdown",
   "id": "6de80a23",
   "metadata": {},
   "source": [
    "## Standardized Categorical Column"
   ]
  },
  {
   "cell_type": "code",
   "execution_count": 113,
   "id": "6395257a",
   "metadata": {},
   "outputs": [],
   "source": [
    "dum_BU=pd.get_dummies(df['BU'])\n",
    "dum_Brand=pd.get_dummies(df['Brand'])\n",
    "dum_Model=pd.get_dummies(df['Model'])"
   ]
  },
  {
   "cell_type": "code",
   "execution_count": 114,
   "id": "b4a22184",
   "metadata": {},
   "outputs": [
    {
     "data": {
      "text/html": [
       "<div>\n",
       "<style scoped>\n",
       "    .dataframe tbody tr th:only-of-type {\n",
       "        vertical-align: middle;\n",
       "    }\n",
       "\n",
       "    .dataframe tbody tr th {\n",
       "        vertical-align: top;\n",
       "    }\n",
       "\n",
       "    .dataframe thead th {\n",
       "        text-align: right;\n",
       "    }\n",
       "</style>\n",
       "<table border=\"1\" class=\"dataframe\">\n",
       "  <thead>\n",
       "    <tr style=\"text-align: right;\">\n",
       "      <th></th>\n",
       "      <th>Date</th>\n",
       "      <th>Day</th>\n",
       "      <th>SKU</th>\n",
       "      <th>City</th>\n",
       "      <th>Volume</th>\n",
       "      <th>Brand</th>\n",
       "      <th>Model</th>\n",
       "      <th>Avg Price</th>\n",
       "      <th>Total Sales Value</th>\n",
       "      <th>Discount Rate (%)</th>\n",
       "      <th>...</th>\n",
       "      <th>Mobiles</th>\n",
       "      <th>Babaji</th>\n",
       "      <th>Gear</th>\n",
       "      <th>Jeera</th>\n",
       "      <th>Orange</th>\n",
       "      <th>RealU</th>\n",
       "      <th>Sumsang</th>\n",
       "      <th>Vedic</th>\n",
       "      <th>Viva</th>\n",
       "      <th>YouM</th>\n",
       "    </tr>\n",
       "  </thead>\n",
       "  <tbody>\n",
       "    <tr>\n",
       "      <th>0</th>\n",
       "      <td>01-04-2021</td>\n",
       "      <td>Thursday</td>\n",
       "      <td>M01</td>\n",
       "      <td>C</td>\n",
       "      <td>-1.349199</td>\n",
       "      <td>RealU</td>\n",
       "      <td>RU-10</td>\n",
       "      <td>-0.578212</td>\n",
       "      <td>-0.669039</td>\n",
       "      <td>-3.787281</td>\n",
       "      <td>...</td>\n",
       "      <td>True</td>\n",
       "      <td>False</td>\n",
       "      <td>False</td>\n",
       "      <td>False</td>\n",
       "      <td>False</td>\n",
       "      <td>True</td>\n",
       "      <td>False</td>\n",
       "      <td>False</td>\n",
       "      <td>False</td>\n",
       "      <td>False</td>\n",
       "    </tr>\n",
       "    <tr>\n",
       "      <th>1</th>\n",
       "      <td>01-04-2021</td>\n",
       "      <td>Thursday</td>\n",
       "      <td>M02</td>\n",
       "      <td>C</td>\n",
       "      <td>-1.415185</td>\n",
       "      <td>RealU</td>\n",
       "      <td>RU-9 Plus</td>\n",
       "      <td>-0.578212</td>\n",
       "      <td>-0.669070</td>\n",
       "      <td>-3.792576</td>\n",
       "      <td>...</td>\n",
       "      <td>True</td>\n",
       "      <td>False</td>\n",
       "      <td>False</td>\n",
       "      <td>False</td>\n",
       "      <td>False</td>\n",
       "      <td>True</td>\n",
       "      <td>False</td>\n",
       "      <td>False</td>\n",
       "      <td>False</td>\n",
       "      <td>False</td>\n",
       "    </tr>\n",
       "    <tr>\n",
       "      <th>2</th>\n",
       "      <td>01-04-2021</td>\n",
       "      <td>Thursday</td>\n",
       "      <td>M03</td>\n",
       "      <td>C</td>\n",
       "      <td>-1.454777</td>\n",
       "      <td>YouM</td>\n",
       "      <td>YM-99</td>\n",
       "      <td>-0.578212</td>\n",
       "      <td>-0.669065</td>\n",
       "      <td>-3.910667</td>\n",
       "      <td>...</td>\n",
       "      <td>True</td>\n",
       "      <td>False</td>\n",
       "      <td>False</td>\n",
       "      <td>False</td>\n",
       "      <td>False</td>\n",
       "      <td>False</td>\n",
       "      <td>False</td>\n",
       "      <td>False</td>\n",
       "      <td>False</td>\n",
       "      <td>True</td>\n",
       "    </tr>\n",
       "    <tr>\n",
       "      <th>3</th>\n",
       "      <td>01-04-2021</td>\n",
       "      <td>Thursday</td>\n",
       "      <td>M04</td>\n",
       "      <td>C</td>\n",
       "      <td>-1.467974</td>\n",
       "      <td>YouM</td>\n",
       "      <td>YM-99 Plus</td>\n",
       "      <td>-0.578212</td>\n",
       "      <td>-0.669062</td>\n",
       "      <td>-4.052217</td>\n",
       "      <td>...</td>\n",
       "      <td>True</td>\n",
       "      <td>False</td>\n",
       "      <td>False</td>\n",
       "      <td>False</td>\n",
       "      <td>False</td>\n",
       "      <td>False</td>\n",
       "      <td>False</td>\n",
       "      <td>False</td>\n",
       "      <td>False</td>\n",
       "      <td>True</td>\n",
       "    </tr>\n",
       "    <tr>\n",
       "      <th>4</th>\n",
       "      <td>01-04-2021</td>\n",
       "      <td>Thursday</td>\n",
       "      <td>M05</td>\n",
       "      <td>C</td>\n",
       "      <td>-1.507566</td>\n",
       "      <td>YouM</td>\n",
       "      <td>YM-98</td>\n",
       "      <td>-0.578212</td>\n",
       "      <td>-0.669100</td>\n",
       "      <td>-3.431324</td>\n",
       "      <td>...</td>\n",
       "      <td>True</td>\n",
       "      <td>False</td>\n",
       "      <td>False</td>\n",
       "      <td>False</td>\n",
       "      <td>False</td>\n",
       "      <td>False</td>\n",
       "      <td>False</td>\n",
       "      <td>False</td>\n",
       "      <td>False</td>\n",
       "      <td>True</td>\n",
       "    </tr>\n",
       "  </tbody>\n",
       "</table>\n",
       "<p>5 rows × 24 columns</p>\n",
       "</div>"
      ],
      "text/plain": [
       "         Date       Day  SKU City    Volume  Brand       Model  Avg Price  \\\n",
       "0  01-04-2021  Thursday  M01    C -1.349199  RealU       RU-10  -0.578212   \n",
       "1  01-04-2021  Thursday  M02    C -1.415185  RealU   RU-9 Plus  -0.578212   \n",
       "2  01-04-2021  Thursday  M03    C -1.454777   YouM       YM-99  -0.578212   \n",
       "3  01-04-2021  Thursday  M04    C -1.467974   YouM  YM-99 Plus  -0.578212   \n",
       "4  01-04-2021  Thursday  M05    C -1.507566   YouM      YM-98   -0.578212   \n",
       "\n",
       "   Total Sales Value  Discount Rate (%)  ...  Mobiles  Babaji   Gear  Jeera  \\\n",
       "0          -0.669039          -3.787281  ...     True   False  False  False   \n",
       "1          -0.669070          -3.792576  ...     True   False  False  False   \n",
       "2          -0.669065          -3.910667  ...     True   False  False  False   \n",
       "3          -0.669062          -4.052217  ...     True   False  False  False   \n",
       "4          -0.669100          -3.431324  ...     True   False  False  False   \n",
       "\n",
       "   Orange  RealU  Sumsang  Vedic   Viva   YouM  \n",
       "0   False   True    False  False  False  False  \n",
       "1   False   True    False  False  False  False  \n",
       "2   False  False    False  False  False   True  \n",
       "3   False  False    False  False  False   True  \n",
       "4   False  False    False  False  False   True  \n",
       "\n",
       "[5 rows x 24 columns]"
      ]
     },
     "execution_count": 114,
     "metadata": {},
     "output_type": "execute_result"
    }
   ],
   "source": [
    "df1=df\n",
    "df2=pd.concat([df1,dum_BU],axis=1)\n",
    "df2=df2.drop('BU',axis=1)\n",
    "df2=pd.concat([df2,dum_Brand],axis=1)\n",
    "df2.head()\n"
   ]
  },
  {
   "cell_type": "code",
   "execution_count": 115,
   "id": "6e9feecd",
   "metadata": {},
   "outputs": [
    {
     "data": {
      "text/html": [
       "<div>\n",
       "<style scoped>\n",
       "    .dataframe tbody tr th:only-of-type {\n",
       "        vertical-align: middle;\n",
       "    }\n",
       "\n",
       "    .dataframe tbody tr th {\n",
       "        vertical-align: top;\n",
       "    }\n",
       "\n",
       "    .dataframe thead th {\n",
       "        text-align: right;\n",
       "    }\n",
       "</style>\n",
       "<table border=\"1\" class=\"dataframe\">\n",
       "  <thead>\n",
       "    <tr style=\"text-align: right;\">\n",
       "      <th></th>\n",
       "      <th>Date</th>\n",
       "      <th>Day</th>\n",
       "      <th>SKU</th>\n",
       "      <th>City</th>\n",
       "      <th>Volume</th>\n",
       "      <th>Brand</th>\n",
       "      <th>Model</th>\n",
       "      <th>Avg Price</th>\n",
       "      <th>Total Sales Value</th>\n",
       "      <th>Discount Rate (%)</th>\n",
       "      <th>...</th>\n",
       "      <th>Vedic Cream</th>\n",
       "      <th>Vedic Oil</th>\n",
       "      <th>Vedic Shampoo</th>\n",
       "      <th>W-Casuals</th>\n",
       "      <th>W-Inners</th>\n",
       "      <th>W-Lounge</th>\n",
       "      <th>W-Western</th>\n",
       "      <th>YM-98</th>\n",
       "      <th>YM-99</th>\n",
       "      <th>YM-99 Plus</th>\n",
       "    </tr>\n",
       "  </thead>\n",
       "  <tbody>\n",
       "    <tr>\n",
       "      <th>0</th>\n",
       "      <td>01-04-2021</td>\n",
       "      <td>Thursday</td>\n",
       "      <td>M01</td>\n",
       "      <td>C</td>\n",
       "      <td>-1.349199</td>\n",
       "      <td>RealU</td>\n",
       "      <td>RU-10</td>\n",
       "      <td>-0.578212</td>\n",
       "      <td>-0.669039</td>\n",
       "      <td>-3.787281</td>\n",
       "      <td>...</td>\n",
       "      <td>False</td>\n",
       "      <td>False</td>\n",
       "      <td>False</td>\n",
       "      <td>False</td>\n",
       "      <td>False</td>\n",
       "      <td>False</td>\n",
       "      <td>False</td>\n",
       "      <td>False</td>\n",
       "      <td>False</td>\n",
       "      <td>False</td>\n",
       "    </tr>\n",
       "    <tr>\n",
       "      <th>1</th>\n",
       "      <td>01-04-2021</td>\n",
       "      <td>Thursday</td>\n",
       "      <td>M02</td>\n",
       "      <td>C</td>\n",
       "      <td>-1.415185</td>\n",
       "      <td>RealU</td>\n",
       "      <td>RU-9 Plus</td>\n",
       "      <td>-0.578212</td>\n",
       "      <td>-0.669070</td>\n",
       "      <td>-3.792576</td>\n",
       "      <td>...</td>\n",
       "      <td>False</td>\n",
       "      <td>False</td>\n",
       "      <td>False</td>\n",
       "      <td>False</td>\n",
       "      <td>False</td>\n",
       "      <td>False</td>\n",
       "      <td>False</td>\n",
       "      <td>False</td>\n",
       "      <td>False</td>\n",
       "      <td>False</td>\n",
       "    </tr>\n",
       "    <tr>\n",
       "      <th>2</th>\n",
       "      <td>01-04-2021</td>\n",
       "      <td>Thursday</td>\n",
       "      <td>M03</td>\n",
       "      <td>C</td>\n",
       "      <td>-1.454777</td>\n",
       "      <td>YouM</td>\n",
       "      <td>YM-99</td>\n",
       "      <td>-0.578212</td>\n",
       "      <td>-0.669065</td>\n",
       "      <td>-3.910667</td>\n",
       "      <td>...</td>\n",
       "      <td>False</td>\n",
       "      <td>False</td>\n",
       "      <td>False</td>\n",
       "      <td>False</td>\n",
       "      <td>False</td>\n",
       "      <td>False</td>\n",
       "      <td>False</td>\n",
       "      <td>False</td>\n",
       "      <td>True</td>\n",
       "      <td>False</td>\n",
       "    </tr>\n",
       "    <tr>\n",
       "      <th>3</th>\n",
       "      <td>01-04-2021</td>\n",
       "      <td>Thursday</td>\n",
       "      <td>M04</td>\n",
       "      <td>C</td>\n",
       "      <td>-1.467974</td>\n",
       "      <td>YouM</td>\n",
       "      <td>YM-99 Plus</td>\n",
       "      <td>-0.578212</td>\n",
       "      <td>-0.669062</td>\n",
       "      <td>-4.052217</td>\n",
       "      <td>...</td>\n",
       "      <td>False</td>\n",
       "      <td>False</td>\n",
       "      <td>False</td>\n",
       "      <td>False</td>\n",
       "      <td>False</td>\n",
       "      <td>False</td>\n",
       "      <td>False</td>\n",
       "      <td>False</td>\n",
       "      <td>False</td>\n",
       "      <td>True</td>\n",
       "    </tr>\n",
       "    <tr>\n",
       "      <th>4</th>\n",
       "      <td>01-04-2021</td>\n",
       "      <td>Thursday</td>\n",
       "      <td>M05</td>\n",
       "      <td>C</td>\n",
       "      <td>-1.507566</td>\n",
       "      <td>YouM</td>\n",
       "      <td>YM-98</td>\n",
       "      <td>-0.578212</td>\n",
       "      <td>-0.669100</td>\n",
       "      <td>-3.431324</td>\n",
       "      <td>...</td>\n",
       "      <td>False</td>\n",
       "      <td>False</td>\n",
       "      <td>False</td>\n",
       "      <td>False</td>\n",
       "      <td>False</td>\n",
       "      <td>False</td>\n",
       "      <td>False</td>\n",
       "      <td>True</td>\n",
       "      <td>False</td>\n",
       "      <td>False</td>\n",
       "    </tr>\n",
       "  </tbody>\n",
       "</table>\n",
       "<p>5 rows × 54 columns</p>\n",
       "</div>"
      ],
      "text/plain": [
       "         Date       Day  SKU City    Volume  Brand       Model  Avg Price  \\\n",
       "0  01-04-2021  Thursday  M01    C -1.349199  RealU       RU-10  -0.578212   \n",
       "1  01-04-2021  Thursday  M02    C -1.415185  RealU   RU-9 Plus  -0.578212   \n",
       "2  01-04-2021  Thursday  M03    C -1.454777   YouM       YM-99  -0.578212   \n",
       "3  01-04-2021  Thursday  M04    C -1.467974   YouM  YM-99 Plus  -0.578212   \n",
       "4  01-04-2021  Thursday  M05    C -1.507566   YouM      YM-98   -0.578212   \n",
       "\n",
       "   Total Sales Value  Discount Rate (%)  ...  Vedic Cream  Vedic Oil  \\\n",
       "0          -0.669039          -3.787281  ...        False      False   \n",
       "1          -0.669070          -3.792576  ...        False      False   \n",
       "2          -0.669065          -3.910667  ...        False      False   \n",
       "3          -0.669062          -4.052217  ...        False      False   \n",
       "4          -0.669100          -3.431324  ...        False      False   \n",
       "\n",
       "   Vedic Shampoo  W-Casuals  W-Inners  W-Lounge  W-Western  YM-98   YM-99  \\\n",
       "0          False      False     False     False      False   False  False   \n",
       "1          False      False     False     False      False   False  False   \n",
       "2          False      False     False     False      False   False   True   \n",
       "3          False      False     False     False      False   False  False   \n",
       "4          False      False     False     False      False    True  False   \n",
       "\n",
       "   YM-99 Plus  \n",
       "0       False  \n",
       "1       False  \n",
       "2       False  \n",
       "3        True  \n",
       "4       False  \n",
       "\n",
       "[5 rows x 54 columns]"
      ]
     },
     "execution_count": 115,
     "metadata": {},
     "output_type": "execute_result"
    }
   ],
   "source": [
    "df2=pd.concat([df2,dum_Model],axis=1)\n",
    "df2.head()"
   ]
  },
  {
   "cell_type": "markdown",
   "id": "19901e2f",
   "metadata": {},
   "source": [
    "## The standardization process aims to find the distance between data points and visualize the steps,such as sales to profit percentage, to aid decision-making. \n"
   ]
  },
  {
   "cell_type": "code",
   "execution_count": null,
   "id": "e1153878",
   "metadata": {},
   "outputs": [],
   "source": []
  }
 ],
 "metadata": {
  "kernelspec": {
   "display_name": "Python 3 (ipykernel)",
   "language": "python",
   "name": "python3"
  },
  "language_info": {
   "codemirror_mode": {
    "name": "ipython",
    "version": 3
   },
   "file_extension": ".py",
   "mimetype": "text/x-python",
   "name": "python",
   "nbconvert_exporter": "python",
   "pygments_lexer": "ipython3",
   "version": "3.11.5"
  }
 },
 "nbformat": 4,
 "nbformat_minor": 5
}
