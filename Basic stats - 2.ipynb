{
 "cells": [
  {
   "cell_type": "code",
   "execution_count": 31,
   "id": "554dffb9",
   "metadata": {},
   "outputs": [
    {
     "name": "stdout",
     "output_type": "stream",
     "text": [
      "Mean= 0    1.238667\n",
      "dtype: float64\n",
      "Mean =  0    1.238667\n",
      "dtype: float64\n",
      "Standard_Deviation =  0    0.193164\n",
      "dtype: float64\n",
      "Sample Size (n): 15\n",
      "3.872983346207417\n",
      "Sample Standard Deviation: 0.19316412956959936\n",
      "Sample Size (n): 15\n",
      "Critical Value (t): 2.97684273411266\n",
      "Margin of Error (E): 0.1484693282152996\n"
     ]
    },
    {
     "data": {
      "text/plain": [
       "('99% Confidence Interval:', (1.090197338451367, 1.3871359948819662))"
      ]
     },
     "execution_count": 31,
     "metadata": {},
     "output_type": "execute_result"
    }
   ],
   "source": [
    "import pandas as pd\n",
    "import numpy as np\n",
    "from scipy.stats import norm\n",
    "data=[1.13, 1.55, 1.43, 0.92, 1.25, 1.36, 1.32, 0.85, 1.07, 1.48, 1.20, 1.33, 1.18,1.22,1.29]\n",
    "df=pd.DataFrame(data)\n",
    "df.head()\n",
    "mean=df.mean()\n",
    "print('Mean=',mean)\n",
    "Standard_Deviation=df.std()\n",
    "n=len(data)\n",
    "print('Mean = ',mean)\n",
    "print('Standard_Deviation = ',Standard_Deviation)\n",
    "print(\"Sample Size (n):\", n)\n",
    "alpha = 0.01  # confidence level\n",
    "df = n - 1\n",
    "t_critical = t.ppf(1 - alpha / 2, df)\n",
    "nr = np.sqrt(n)\n",
    "# Step 4: Calculate the margin of error (E)\n",
    "margin_of_error = t_critical * sample_std / np.sqrt(n)\n",
    "\n",
    "confidence_interval = (sample_mean - margin_of_error, sample_mean + margin_of_error)\n",
    "print(\"Sample Standard Deviation:\", sample_std)\n",
    "print(\"Sample Size (n):\", n)\n",
    "print(\"Critical Value (t):\", t_critical)\n",
    "print(\"Margin of Error (E):\", margin_of_error)\n",
    "(\"99% Confidence Interval:\", confidence_interval)"
   ]
  },
  {
   "cell_type": "code",
   "execution_count": 20,
   "id": "f801df75",
   "metadata": {},
   "outputs": [],
   "source": [
    "# The interval range between 1.09 to 1.38"
   ]
  },
  {
   "cell_type": "code",
   "execution_count": 32,
   "id": "7418ca56",
   "metadata": {},
   "outputs": [
    {
     "name": "stdout",
     "output_type": "stream",
     "text": [
      "Sample Standard Deviation: 0.2\n",
      "Sample Size (n): 15\n",
      "Z Critical Value: 2.5758293035489004\n",
      "Margin of Error (E): 0.13301525327090588\n"
     ]
    },
    {
     "data": {
      "text/plain": [
       "('99% Confidence Interval:', (1.1056514133957607, 1.3716819199375725))"
      ]
     },
     "execution_count": 32,
     "metadata": {},
     "output_type": "execute_result"
    }
   ],
   "source": [
    "#Popular Standard Deviation is: 0.2\n",
    "pop_std=0.2\n",
    "z_critical=norm.ppf(0.995)\n",
    "pop_margin_of_error = z_critical * pop_std / np.sqrt(n)\n",
    "pop_confidence_interval = (sample_mean - pop_margin_of_error, sample_mean + pop_margin_of_error)\n",
    "print(\"Sample Standard Deviation:\", pop_std)\n",
    "print(\"Sample Size (n):\", n)\n",
    "print(\"Z Critical Value:\", z_critical)\n",
    "print(\"Margin of Error (E):\", pop_margin_of_error)\n",
    "(\"99% Confidence Interval:\", pop_confidence_interval)"
   ]
  },
  {
   "cell_type": "code",
   "execution_count": null,
   "id": "86c5fba8",
   "metadata": {},
   "outputs": [],
   "source": [
    "The Population interval range between 1.10 to 1.37"
   ]
  }
 ],
 "metadata": {
  "kernelspec": {
   "display_name": "Python 3 (ipykernel)",
   "language": "python",
   "name": "python3"
  },
  "language_info": {
   "codemirror_mode": {
    "name": "ipython",
    "version": 3
   },
   "file_extension": ".py",
   "mimetype": "text/x-python",
   "name": "python",
   "nbconvert_exporter": "python",
   "pygments_lexer": "ipython3",
   "version": "3.11.5"
  }
 },
 "nbformat": 4,
 "nbformat_minor": 5
}
